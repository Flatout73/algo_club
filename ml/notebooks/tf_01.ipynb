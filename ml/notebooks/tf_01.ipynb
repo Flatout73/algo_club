{
 "cells": [
  {
   "cell_type": "code",
   "execution_count": 1,
   "metadata": {},
   "outputs": [],
   "source": [
    "import glob\n",
    "import re\n",
    "\n",
    "import IPython.display as disp\n",
    "import numpy as np\n",
    "from PIL import Image\n",
    "import tensorflow as tf"
   ]
  },
  {
   "cell_type": "code",
   "execution_count": 2,
   "metadata": {},
   "outputs": [],
   "source": [
    "def pair_gen(path):\n",
    "    for flnm in glob.glob(path + '/gauss_*.png'):\n",
    "        yield (flnm, flnm.replace('gauss', 'lens'))\n",
    "\n",
    "def open_files(record, label):\n",
    "    return tf.read_file(record), tf.read_file(label)\n",
    "\n",
    "def convert_pictures(record, label):\n",
    "    return tf.image.decode_png(record), tf.image.decode_png(label)"
   ]
  },
  {
   "cell_type": "code",
   "execution_count": 3,
   "metadata": {},
   "outputs": [],
   "source": [
    "it = tf.data.Dataset.from_generator(lambda: pair_gen('neuro_images/lens_white_bg'), \n",
    "                                    output_types=(tf.string, tf.string))\\\n",
    "    .map(open_files)\\\n",
    "    .map(convert_pictures)\\\n",
    "    .make_one_shot_iterator()"
   ]
  },
  {
   "cell_type": "code",
   "execution_count": 4,
   "metadata": {},
   "outputs": [
    {
     "data": {
      "image/png": "[encoded data removed]",
      "text/plain": [
       "<PIL.Image.Image image mode=RGB size=256x256 at 0x7F97FE5ACD30>"
      ]
     },
     "metadata": {},
     "output_type": "display_data"
    },
    {
     "data": {
      "image/png": "[encoded data removed]",
      "text/plain": [
       "<PIL.Image.Image image mode=RGB size=256x256 at 0x7F97FCCDD208>"
      ]
     },
     "metadata": {},
     "output_type": "display_data"
    }
   ],
   "source": [
    "s = tf.Session()\n",
    "\n",
    "d, l = s.run(it.get_next())\n",
    "\n",
    "disp.display(Image.fromarray(d))\n",
    "disp.display(Image.fromarray(np.tile(l, [1, 1, 3])))"
   ]
  },
  {
   "cell_type": "code",
   "execution_count": null,
   "metadata": {},
   "outputs": [],
   "source": []
  }
 ],
 "metadata": {
  "kernelspec": {
   "display_name": "Python 3",
   "language": "python",
   "name": "python3"
  },
  "language_info": {
   "codemirror_mode": {
    "name": "ipython",
    "version": 3
   },
   "file_extension": ".py",
   "mimetype": "text/x-python",
   "name": "python",
   "nbconvert_exporter": "python",
   "pygments_lexer": "ipython3",
   "version": "3.6.5"
  }
 },
 "nbformat": 4,
 "nbformat_minor": 2
}
