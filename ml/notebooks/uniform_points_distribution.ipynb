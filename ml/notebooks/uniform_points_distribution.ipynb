{
 "cells": [
  {
   "cell_type": "code",
   "execution_count": 1,
   "metadata": {},
   "outputs": [],
   "source": [
    "%matplotlib notebook\n",
    "\n",
    "import IPython.display\n",
    "import tensorflow as tf\n",
    "import PIL\n",
    "import subprocess\n",
    "import sys\n",
    "\n",
    "import matplotlib.pyplot as plt\n",
    "from mpl_toolkits.mplot3d import Axes3D"
   ]
  },
  {
   "cell_type": "code",
   "execution_count": 2,
   "metadata": {},
   "outputs": [],
   "source": [
    "s = tf.Session()"
   ]
  },
  {
   "cell_type": "code",
   "execution_count": 3,
   "metadata": {},
   "outputs": [],
   "source": [
    "n = 8"
   ]
  },
  {
   "cell_type": "code",
   "execution_count": 4,
   "metadata": {},
   "outputs": [],
   "source": [
    "rnd_gen = tf.random_uniform((n, 3), dtype=tf.float64)"
   ]
  },
  {
   "cell_type": "code",
   "execution_count": 5,
   "metadata": {},
   "outputs": [],
   "source": [
    "y = tf.Variable(rnd_gen, dtype=tf.float64, trainable=True)"
   ]
  },
  {
   "cell_type": "code",
   "execution_count": 6,
   "metadata": {},
   "outputs": [],
   "source": [
    "yyt = tf.matmul(y, tf.transpose(y))\n",
    "sqlen = tf.matrix_diag_part(yyt)\n",
    "trp = tf.tile(tf.reshape(sqlen, [1, -1]), [n, 1])\n",
    "trq = tf.tile(tf.reshape(sqlen, [-1, 1]), [1, n])\n",
    "qlenbetween = -yyt * 2 + trq + trp + tf.eye(n, dtype=tf.float64)\n",
    "potentials = 1 / tf.sqrt(qlenbetween) - tf.eye(n, dtype=tf.float64)\n",
    "global_potent = tf.reduce_sum(potentials) + 10 * tf.norm(sqlen - tf.fill((n,), tf.constant(1, dtype=tf.float64)), ord=2)"
   ]
  },
  {
   "cell_type": "code",
   "execution_count": 7,
   "metadata": {},
   "outputs": [],
   "source": [
    "global_step = tf.Variable(0, trainable=False)\n",
    "learning_rate = tf.train.exponential_decay(0.05, global_step, 20, 0.9, staircase=True)"
   ]
  },
  {
   "cell_type": "code",
   "execution_count": 8,
   "metadata": {},
   "outputs": [],
   "source": [
    "s.run(tf.global_variables_initializer())"
   ]
  },
  {
   "cell_type": "code",
   "execution_count": 9,
   "metadata": {},
   "outputs": [
    {
     "data": {
      "text/plain": [
       "101.57904198831017"
      ]
     },
     "execution_count": 9,
     "metadata": {},
     "output_type": "execute_result"
    }
   ],
   "source": [
    "s.run(global_potent)"
   ]
  },
  {
   "cell_type": "code",
   "execution_count": 10,
   "metadata": {},
   "outputs": [
    {
     "data": {
      "text/plain": [
       "[]"
      ]
     },
     "execution_count": 10,
     "metadata": {},
     "output_type": "execute_result"
    }
   ],
   "source": [
    "!! rm imgs/*.png"
   ]
  },
  {
   "cell_type": "code",
   "execution_count": 11,
   "metadata": {},
   "outputs": [],
   "source": [
    "meter = 0\n",
    "angle = 0"
   ]
  },
  {
   "cell_type": "code",
   "execution_count": 12,
   "metadata": {},
   "outputs": [],
   "source": [
    "g_o = tf.train.GradientDescentOptimizer(learning_rate)\n",
    "step = g_o.minimize(global_potent, global_step)"
   ]
  },
  {
   "cell_type": "code",
   "execution_count": 13,
   "metadata": {},
   "outputs": [
    {
     "data": {
      "text/plain": [
       "'iteration 200 done. l_r = 1.3280664461490232e-06 global_potent = 39.351297265905295 diff = 0.00011432347715611968'"
      ]
     },
     "metadata": {},
     "output_type": "display_data"
    },
    {
     "data": {
      "image/png": "[encoded data removed]",
      "text/plain": [
       "<PIL.PngImagePlugin.PngImageFile image mode=RGB size=800x600 at 0x7FB596854518>"
      ]
     },
     "metadata": {},
     "output_type": "display_data"
    }
   ],
   "source": [
    "for iter_num in range(200):\n",
    "    angle += 0.5\n",
    "    prev = s.run(global_potent)\n",
    "    for _ in range(10):\n",
    "        s.run(step)\n",
    "    current = s.run(global_potent)\n",
    "    data = s.run([y])[0]\n",
    "    h, w = data.shape\n",
    "    with open('points.pov', 'w') as dst:\n",
    "        for p in range(h):\n",
    "            xx = data[p][0]\n",
    "            yy = data[p][1]\n",
    "            zz = data[p][2]\n",
    "            print('sphere {{< {}, {}, {}> .1 pigment {{color<1,0,0>}}}}'.format(xx, yy, zz), file=dst)\n",
    "   \n",
    "    with open('cam_angle.pov', 'w') as dst:\n",
    "        angle_def = '#declare cam_angle = {};\\n'.format(0.70 + angle/100)\n",
    "        dst.write(angle_def)\n",
    "    out_flnm = 'imgs/img_{:04}.png'.format(meter)\n",
    "    povray_process = subprocess.Popen(['povray', 'cube.pov', '-O'+out_flnm, '-D0'],\n",
    "                                     stderr=subprocess.PIPE,\n",
    "                                     stdout=subprocess.PIPE)\n",
    "    err_code = povray_process.communicate()\n",
    "    if povray_process.returncode:\n",
    "        print(err_code[1].decode('utf-8'))\n",
    "        break\n",
    "    meter += 1\n",
    "    IPython.display.clear_output()\n",
    "    IPython.display.display(\n",
    "        'iteration {} done. l_r = {} global_potent = {} diff = {}'\n",
    "        .format(meter, s.run(learning_rate), current, current - prev))\n",
    "    IPython.display.display(PIL.Image.open(out_flnm))    "
   ]
  },
  {
   "cell_type": "code",
   "execution_count": null,
   "metadata": {},
   "outputs": [],
   "source": [
    "s.run(y)"
   ]
  },
  {
   "cell_type": "code",
   "execution_count": null,
   "metadata": {},
   "outputs": [],
   "source": [
    "s.run(tf.matmul(y, tf.transpose(y)))"
   ]
  },
  {
   "cell_type": "code",
   "execution_count": null,
   "metadata": {},
   "outputs": [],
   "source": [
    "s.run(yyt)"
   ]
  },
  {
   "cell_type": "code",
   "execution_count": null,
   "metadata": {},
   "outputs": [],
   "source": [
    "s.run(global_potent)"
   ]
  },
  {
   "cell_type": "code",
   "execution_count": null,
   "metadata": {},
   "outputs": [],
   "source": [
    "data = s.run([y])[0]\n",
    "\n",
    "plt.figure(figsize=(10, 10))\n",
    "ax=plt.axes(projection='3d')\n",
    "ax.view_init(10,45)\n",
    "ax.set_xlabel('x')\n",
    "ax.set_ylabel('y')\n",
    "ax.set_zlabel('z')\n",
    "xx=data[:, 0]\n",
    "yy=data[:, 1]\n",
    "zz=data[:, 2]\n",
    "dx=max(xx)-min(xx)\n",
    "dy=max(yy)-min(yy)\n",
    "dz=max(zz)-min(zz)\n",
    "dcommon = max(dx, dy, dz)\n",
    "mx = (max(xx)+min(xx))/2\n",
    "my = (max(yy)+min(yy))/2\n",
    "mz = (max(zz)+min(zz))/2\n",
    "ax.set_xlim3d((mx-dcommon/2,mx+dcommon/2))\n",
    "ax.set_ylim3d((my-dcommon/2,my+dcommon/2))\n",
    "ax.set_zlim3d((mz-dcommon/2,mz+dcommon/2))\n",
    "ax.scatter(xx,yy,zz)\n",
    "plt.show()"
   ]
  },
  {
   "cell_type": "code",
   "execution_count": null,
   "metadata": {},
   "outputs": [],
   "source": []
  },
  {
   "cell_type": "code",
   "execution_count": null,
   "metadata": {},
   "outputs": [],
   "source": [
    "g_o = tf.train.AdamOptimizer()\n",
    "step = g_o.minimize(global_potent)"
   ]
  },
  {
   "cell_type": "code",
   "execution_count": null,
   "metadata": {},
   "outputs": [],
   "source": [
    "g_o = tf.train.MomentumOptimizer(0.000001, 0.3)\n",
    "step = g_o.minimize(global_potent)"
   ]
  },
  {
   "cell_type": "code",
   "execution_count": null,
   "metadata": {},
   "outputs": [],
   "source": [
    "prev = s.run(global_potent)\n",
    "for _ in range(100):\n",
    "    s.run([step])\n",
    "current = s.run(global_potent)\n",
    "'{} -> {} with diff {}'.format(prev, current, current - prev)"
   ]
  }
 ],
 "metadata": {
  "kernelspec": {
   "display_name": "Python 3",
   "language": "python",
   "name": "python3"
  },
  "language_info": {
   "codemirror_mode": {
    "name": "ipython",
    "version": 3
   },
   "file_extension": ".py",
   "mimetype": "text/x-python",
   "name": "python",
   "nbconvert_exporter": "python",
   "pygments_lexer": "ipython3",
   "version": "3.5.4"
  }
 },
 "nbformat": 4,
 "nbformat_minor": 2
}
