{
 "cells": [
  {
   "cell_type": "code",
   "execution_count": 1,
   "metadata": {
    "collapsed": true
   },
   "outputs": [],
   "source": [
    "%matplotlib notebook\n",
    "\n",
    "import IPython.display\n",
    "import numpy as np\n",
    "import tensorflow as tf\n",
    "import PIL\n",
    "import subprocess\n",
    "import sys\n",
    "\n",
    "import matplotlib.pyplot as plt\n",
    "from mpl_toolkits.mplot3d import Axes3D"
   ]
  },
  {
   "cell_type": "code",
   "execution_count": 2,
   "metadata": {
    "collapsed": true
   },
   "outputs": [],
   "source": [
    "s = tf.Session()"
   ]
  },
  {
   "cell_type": "code",
   "execution_count": 3,
   "metadata": {
    "collapsed": true
   },
   "outputs": [],
   "source": [
    "n = 500"
   ]
  },
  {
   "cell_type": "code",
   "execution_count": 4,
   "metadata": {
    "collapsed": true
   },
   "outputs": [],
   "source": [
    "rnd_gen = tf.random_uniform((n, 3), dtype=tf.float64)"
   ]
  },
  {
   "cell_type": "code",
   "execution_count": 5,
   "metadata": {
    "collapsed": true
   },
   "outputs": [],
   "source": [
    "y = tf.Variable(rnd_gen, dtype=tf.float64, trainable=True)"
   ]
  },
  {
   "cell_type": "code",
   "execution_count": 6,
   "metadata": {
    "collapsed": true
   },
   "outputs": [],
   "source": [
    "yyt = tf.matmul(y, tf.transpose(y))\n",
    "sqlen = tf.matrix_diag_part(yyt)\n",
    "trp = tf.tile(tf.reshape(sqlen, [1, -1]), [n, 1])\n",
    "trq = tf.tile(tf.reshape(sqlen, [-1, 1]), [1, n])\n",
    "qlenbetween = -yyt * 2 + trq + trp + tf.eye(n, dtype=tf.float64)\n",
    "potentials = 1 / tf.sqrt(qlenbetween) - tf.eye(n, dtype=tf.float64)\n",
    "global_potent = tf.reduce_sum(potentials) + 10 * tf.norm(sqlen - tf.fill((n,), tf.constant(1, dtype=tf.float64)), ord=2)"
   ]
  },
  {
   "cell_type": "code",
   "execution_count": 7,
   "metadata": {
    "collapsed": true
   },
   "outputs": [],
   "source": [
    "global_step = tf.Variable(0, trainable=False)\n",
    "learning_rate = tf.train.exponential_decay(0.1, global_step, 500, 0.95, staircase=True)"
   ]
  },
  {
   "cell_type": "code",
   "execution_count": 8,
   "metadata": {
    "collapsed": true
   },
   "outputs": [],
   "source": [
    "s.run(tf.global_variables_initializer())"
   ]
  },
  {
   "cell_type": "code",
   "execution_count": 9,
   "metadata": {
    "collapsed": false
   },
   "outputs": [
    {
     "data": {
      "text/plain": [
       "465054.3615381124"
      ]
     },
     "execution_count": 9,
     "metadata": {},
     "output_type": "execute_result"
    }
   ],
   "source": [
    "s.run(global_potent)"
   ]
  },
  {
   "cell_type": "code",
   "execution_count": 10,
   "metadata": {
    "collapsed": false
   },
   "outputs": [
    {
     "data": {
      "text/plain": [
       "[\"rm: cannot remove 'imgs/*.png': No such file or directory\"]"
      ]
     },
     "execution_count": 10,
     "metadata": {},
     "output_type": "execute_result"
    }
   ],
   "source": [
    "!! rm imgs/*.png"
   ]
  },
  {
   "cell_type": "code",
   "execution_count": 11,
   "metadata": {
    "collapsed": true
   },
   "outputs": [],
   "source": [
    "g_o = tf.train.GradientDescentOptimizer(learning_rate)\n",
    "step = g_o.minimize(global_potent, global_step)"
   ]
  },
  {
   "cell_type": "code",
   "execution_count": 12,
   "metadata": {
    "collapsed": false
   },
   "outputs": [
    {
     "data": {
      "text/plain": [
       "'iteration 199 done. l_r = 0.012851208448410034 global_potent = 43277.13366367077 diff = -0.00017495291831437498'"
      ]
     },
     "metadata": {},
     "output_type": "display_data"
    }
   ],
   "source": [
    "for iter_num in range(200):\n",
    "    prev = s.run(global_potent)\n",
    "    for _ in range(100):\n",
    "        s.run(step)\n",
    "    current = s.run(global_potent)\n",
    "    IPython.display.clear_output()\n",
    "    IPython.display.display(\n",
    "        'iteration {} done. l_r = {} global_potent = {} diff = {}'\n",
    "        .format(iter_num, s.run(learning_rate), current, current - prev))"
   ]
  },
  {
   "cell_type": "code",
   "execution_count": 18,
   "metadata": {
    "collapsed": false
   },
   "outputs": [],
   "source": [
    "def show_povray_picture():\n",
    "    data = s.run([y])[0]\n",
    "    h, w = data.shape\n",
    "    with open('points.pov', 'w') as dst:\n",
    "        for p in range(h):\n",
    "            xx = data[p][0]\n",
    "            yy = data[p][1]\n",
    "            zz = data[p][2]\n",
    "            print('sphere {{< {}, {}, {}> .1 pigment {{color<1,0,0>}}}}'.format(xx, yy, zz), file=dst)\n",
    "    angle = 0.1\n",
    "    with open('cam_angle.pov', 'w') as dst:\n",
    "        angle_def = '#declare cam_angle = {};\\n'.format(0.70 + angle/100)\n",
    "        dst.write(angle_def)\n",
    "    out_flnm = 'imgs/img_uniq.png'\n",
    "    povray_process = subprocess.Popen(['povray', 'cube.pov', '-O'+out_flnm, '-D0'],\n",
    "                                     stderr=subprocess.PIPE,\n",
    "                                     stdout=subprocess.PIPE)\n",
    "    err_code = povray_process.communicate()\n",
    "    if povray_process.returncode:\n",
    "        print(err_code[1].decode('utf-8'))\n",
    "        return\n",
    "    IPython.display.clear_output()\n",
    "    IPython.display.display(PIL.Image.open(out_flnm))    "
   ]
  },
  {
   "cell_type": "code",
   "execution_count": 22,
   "metadata": {
    "collapsed": false
   },
   "outputs": [
    {
     "data": {
      "image/png": "[encoded data removed]",
      "text/plain": [
       "<PIL.PngImagePlugin.PngImageFile image mode=RGB size=800x600 at 0x7F6AB884E780>"
      ]
     },
     "metadata": {},
     "output_type": "display_data"
    }
   ],
   "source": [
    "show_povray_picture()"
   ]
  },
  {
   "cell_type": "code",
   "execution_count": 13,
   "metadata": {
    "collapsed": true
   },
   "outputs": [],
   "source": [
    "def train_with_pictures():\n",
    "    for iter_num in range(200):\n",
    "        angle += 0.5\n",
    "        prev = s.run(global_potent)\n",
    "        for _ in range(10):\n",
    "            s.run(step)\n",
    "        current = s.run(global_potent)\n",
    "        data = s.run([y])[0]\n",
    "        h, w = data.shape\n",
    "        with open('points.pov', 'w') as dst:\n",
    "            for p in range(h):\n",
    "                xx = data[p][0]\n",
    "                yy = data[p][1]\n",
    "                zz = data[p][2]\n",
    "                print('sphere {{< {}, {}, {}> .1 pigment {{color<1,0,0>}}}}'.format(xx, yy, zz), file=dst)\n",
    "\n",
    "        with open('cam_angle.pov', 'w') as dst:\n",
    "            angle_def = '#declare cam_angle = {};\\n'.format(0.70 + angle/100)\n",
    "            dst.write(angle_def)\n",
    "        out_flnm = 'imgs/img_{:04}.png'.format(meter)\n",
    "        povray_process = subprocess.Popen(['povray', 'cube.pov', '-O'+out_flnm, '-D0'],\n",
    "                                         stderr=subprocess.PIPE,\n",
    "                                         stdout=subprocess.PIPE)\n",
    "        err_code = povray_process.communicate()\n",
    "        if povray_process.returncode:\n",
    "            print(err_code[1].decode('utf-8'))\n",
    "            break\n",
    "        meter += 1\n",
    "        IPython.display.clear_output()\n",
    "        IPython.display.display(\n",
    "            'iteration {} done. l_r = {} global_potent = {} diff = {}'\n",
    "            .format(meter, s.run(learning_rate), current, current - prev))\n",
    "        IPython.display.display(PIL.Image.open(out_flnm))    "
   ]
  },
  {
   "cell_type": "code",
   "execution_count": 14,
   "metadata": {
    "collapsed": true
   },
   "outputs": [],
   "source": [
    "def show_picture():\n",
    "    data = s.run([y])[0]\n",
    "\n",
    "    plt.figure(figsize=(10, 10))\n",
    "    ax=plt.axes(projection='3d')\n",
    "    ax.view_init(10,45)\n",
    "    ax.set_xlabel('x')\n",
    "    ax.set_ylabel('y')\n",
    "    ax.set_zlabel('z')\n",
    "    xx=data[:, 0]\n",
    "    yy=data[:, 1]\n",
    "    zz=data[:, 2]\n",
    "    dx=max(xx)-min(xx)\n",
    "    dy=max(yy)-min(yy)\n",
    "    dz=max(zz)-min(zz)\n",
    "    dcommon = max(dx, dy, dz)\n",
    "    mx = (max(xx)+min(xx))/2\n",
    "    my = (max(yy)+min(yy))/2\n",
    "    mz = (max(zz)+min(zz))/2\n",
    "    ax.set_xlim3d((mx-dcommon/2,mx+dcommon/2))\n",
    "    ax.set_ylim3d((my-dcommon/2,my+dcommon/2))\n",
    "    ax.set_zlim3d((mz-dcommon/2,mz+dcommon/2))\n",
    "    ax.scatter(xx,yy,zz)\n",
    "    plt.show()"
   ]
  },
  {
   "cell_type": "code",
   "execution_count": null,
   "metadata": {
    "collapsed": true
   },
   "outputs": [],
   "source": []
  },
  {
   "cell_type": "code",
   "execution_count": null,
   "metadata": {
    "collapsed": true
   },
   "outputs": [],
   "source": [
    "g_o = tf.train.AdamOptimizer()\n",
    "step = g_o.minimize(global_potent)"
   ]
  },
  {
   "cell_type": "code",
   "execution_count": null,
   "metadata": {
    "collapsed": true
   },
   "outputs": [],
   "source": [
    "g_o = tf.train.MomentumOptimizer(0.000001, 0.3)\n",
    "step = g_o.minimize(global_potent)"
   ]
  },
  {
   "cell_type": "code",
   "execution_count": null,
   "metadata": {
    "collapsed": true
   },
   "outputs": [],
   "source": [
    "prev = s.run(global_potent)\n",
    "for _ in range(100):\n",
    "    s.run([step])\n",
    "current = s.run(global_potent)\n",
    "'{} -> {} with diff {}'.format(prev, current, current - prev)"
   ]
  },
  {
   "cell_type": "markdown",
   "metadata": {},
   "source": [
    "#### Два гаусса"
   ]
  },
  {
   "cell_type": "code",
   "execution_count": null,
   "metadata": {
    "collapsed": true
   },
   "outputs": [],
   "source": [
    "first_class = tf.distributions.Normal(loc=(3., 0., 0.), scale=(.3, .3, .3))\n",
    "second_class = tf.distributions.Normal(loc=(0., 3., 0.), scale=(.3, .3, .3))\n",
    "\n",
    "\n",
    "first_class_samples = first_class.sample(1000)\n",
    "second_class_samples = second_class.sample(900)\n",
    "\n",
    "first_class_samples_values, second_class_samples_values = s.run([first_class_samples, second_class_samples])\n",
    "\n",
    "first_class_y = tf.constant(1.0, dtype=tf.float32, shape=(first_class_samples.get_shape()[0], 1))\n",
    "second_class_y = tf.constant(0.0, dtype=tf.float32, shape=(second_class_samples.get_shape()[0], 1))\n",
    "\n",
    "first_data = tf.concat((first_class_samples, first_class_y), 1)\n",
    "second_data = tf.concat((second_class_samples, second_class_y), 1)\n",
    "\n",
    "data = tf.random_shuffle(tf.concat((first_data, second_data), 0))"
   ]
  },
  {
   "cell_type": "markdown",
   "metadata": {},
   "source": [
    "#### Нарисовать выборки из двух гауссов"
   ]
  },
  {
   "cell_type": "code",
   "execution_count": null,
   "metadata": {
    "collapsed": true
   },
   "outputs": [],
   "source": [
    "povray_script_declares =\\\n",
    "'''#version 3.7;\n",
    "\n",
    "global_settings {assumed_gamma 1.0}\n",
    "\n",
    "#declare dist = 10;\n",
    "// #declare cam_angle = 0.05;\n",
    "#declare data_x = 1.5;\n",
    "#declare data_y = 1.5;\n",
    "#declare data_z = 0;\n",
    "'''\n",
    "\n",
    "povray_script_code ='''\n",
    "camera {\n",
    "  location <data_x + dist * cos(2 * pi * cam_angle), data_z + 1.5, data_y + dist * sin( 2 * pi * cam_angle)>\n",
    "  look_at <data_x, data_z, data_y>\n",
    "  angle 40\n",
    "}\n",
    "\n",
    "light_source {\n",
    "  <5, 10, 5>\n",
    "  color <1, 1, 1>\n",
    "}\n",
    "\n",
    "light_source {\n",
    "  <5, 10, -5>\n",
    "  color <1, 1, 1>\n",
    "}\n",
    "\n",
    "box {\n",
    "  <0, 0, 0>\n",
    "  <1, 1, 1>\n",
    "  \n",
    "  pigment {\n",
    "    color <1, 1, 1>\n",
    "    filter 0.8\n",
    "  }\n",
    "}\n",
    "\n",
    "plane {\n",
    "  <0, 1, 0>, -2\n",
    "  pigment {\n",
    "    color <1,1,1>\n",
    "  }\n",
    "}\n",
    "\n",
    "'''\n",
    "\n",
    "def swap_yz(v):\n",
    "    return (v[t] for t in [0, 2, 1])\n",
    "\n",
    "def print_sphere(pos, r, color):\n",
    "    return 'sphere {{< {}, {}, {}> {} pigment {{color<{}, {}, {}>}}}}\\n'\\\n",
    "           .format(*swap_yz(pos), r, *color)\n",
    "    \n",
    "def print_disc(pos, norm, r):\n",
    "    return 'disc {{< {}, {}, {} > < {}, {}, {}> {} }}'.format(*swap_yz(pos), *swap_yz(norm), r)"
   ]
  },
  {
   "cell_type": "code",
   "execution_count": null,
   "metadata": {
    "collapsed": true
   },
   "outputs": [],
   "source": [
    "# w = tf.constant([[1], [-1], [0]], dtype=tf.float32)\n",
    "# c = tf.constant(0.5, dtype=tf.float32)"
   ]
  },
  {
   "cell_type": "code",
   "execution_count": null,
   "metadata": {
    "collapsed": false
   },
   "outputs": [],
   "source": [
    "for cam_angle in np.linspace(0.18, 1, 1):\n",
    "    declare_angle = '#declare cam_angle = {};'.format(cam_angle)\n",
    "    spheres = ''.join(print_sphere((x, y, z), 0.1, (1, t, 0)) for x, y, z, t in s.run(data))\n",
    "    disk_norm = s.run(w).T[0]\n",
    "    offset = s.run(c)\n",
    "    t = offset / disk_norm.dot(disk_norm.T)\n",
    "    \n",
    "    disk = print_disc(t * disk_norm, disk_norm, 1)\n",
    "\n",
    "    povray_script = (povray_script_declares + \n",
    "                     declare_angle + \n",
    "                     povray_script_code +\n",
    "                     spheres + \n",
    "                     disk\n",
    "                    )\n",
    "\n",
    "    with open('tmp.pov', 'w') as dst:\n",
    "        dst.write(povray_script)\n",
    "\n",
    "    povray = subprocess.Popen(['povray', '-Itmp.pov', '-Opic.png', '-d'],\n",
    "                             stderr=subprocess.PIPE,\n",
    "                             stdout=subprocess.PIPE)\n",
    "    err, out = povray.communicate()\n",
    "\n",
    "    IPython.display.clear_output()\n",
    "    if povray.returncode:\n",
    "        print(out) \n",
    "        break\n",
    "    else:\n",
    "        IPython.display.display(PIL.Image.open('pic.png'))"
   ]
  },
  {
   "cell_type": "code",
   "execution_count": null,
   "metadata": {
    "collapsed": true
   },
   "outputs": [],
   "source": [
    "with open('tmp.pov') as src:\n",
    "    print(src.read())"
   ]
  },
  {
   "cell_type": "code",
   "execution_count": null,
   "metadata": {
    "collapsed": true
   },
   "outputs": [],
   "source": [
    "print_sphere((1, 2, 3), 0.1, (1, 0, 0))"
   ]
  },
  {
   "cell_type": "code",
   "execution_count": null,
   "metadata": {
    "collapsed": true
   },
   "outputs": [],
   "source": [
    "for p in range(-23, 24):\n",
    "    for q in range(-23, 24):\n",
    "        dp1, dq1 = p - 10, q\n",
    "        dp2, dq2 = p + 10, q\n",
    "        ds1 = dp1 ** 2 + dq1 ** 2\n",
    "        ds2 = dp2 ** 2 + dq2 ** 2\n",
    "        c1 = ds1 <= 100\n",
    "        c2 = ds2 <= 100\n",
    "        c3 = (p**2 + q**2) < 400\n",
    "        c4 = (p**2 + q**2) < 529\n",
    "        c5 = (p - 10)**2 + q**2 <=16\n",
    "        c6 = (p + 10)**2 + q**2 <=16\n",
    "        \n",
    "        if ((c2 or ((q > 0) and c3 and not c1)) or (not c3 and c4)) and not c6 or c5:\n",
    "            print('*', end='')\n",
    "        else:\n",
    "            print(' ', end='')\n",
    "    print()"
   ]
  },
  {
   "cell_type": "markdown",
   "metadata": {},
   "source": [
    "#### Сохранить датасет с двумя гауссами"
   ]
  },
  {
   "cell_type": "code",
   "execution_count": null,
   "metadata": {
    "collapsed": true
   },
   "outputs": [],
   "source": [
    "with open('data_00.tsv', 'w') as dst:\n",
    "    for record in s.run(data):\n",
    "        dst.write('\\t'.join(str(t) for t in record) + '\\n')"
   ]
  },
  {
   "cell_type": "code",
   "execution_count": null,
   "metadata": {
    "collapsed": true
   },
   "outputs": [],
   "source": [
    "with open('data.tsv') as src:\n",
    "    print(src.readline())"
   ]
  },
  {
   "cell_type": "markdown",
   "metadata": {},
   "source": [
    "#### простой самопальный классификатор на tensorflow"
   ]
  },
  {
   "cell_type": "code",
   "execution_count": null,
   "metadata": {
    "collapsed": true
   },
   "outputs": [],
   "source": [
    "w = tf.constant([[1], [-1], [0], [0.5]], dtype=tf.float32)"
   ]
  },
  {
   "cell_type": "code",
   "execution_count": null,
   "metadata": {
    "collapsed": true
   },
   "outputs": [],
   "source": [
    "w = tf.Variable(tf.random_uniform((4, 1)), trainable=True, dtype=tf.float32)"
   ]
  },
  {
   "cell_type": "code",
   "execution_count": null,
   "metadata": {
    "collapsed": true
   },
   "outputs": [],
   "source": [
    "s.run(tf.global_variables_initializer())"
   ]
  },
  {
   "cell_type": "code",
   "execution_count": null,
   "metadata": {
    "collapsed": true
   },
   "outputs": [],
   "source": [
    "data_expand = tf.concat((data[:, :-1], tf.ones([data_expand.shape[0], 1])), 1)\n",
    "y_predicted = tf.matmul(data_expand, w)\n",
    "y_real = tf.reshape(data[:, -1], [-1, 1])"
   ]
  },
  {
   "cell_type": "code",
   "execution_count": null,
   "metadata": {
    "collapsed": false
   },
   "outputs": [],
   "source": [
    "s.run(tf.concat((y_predicted, y_real), 1))[:10]"
   ]
  },
  {
   "cell_type": "code",
   "execution_count": null,
   "metadata": {
    "collapsed": true
   },
   "outputs": [],
   "source": [
    "y_predicted = tf.matmul(data, w)"
   ]
  },
  {
   "cell_type": "code",
   "execution_count": null,
   "metadata": {
    "collapsed": true
   },
   "outputs": [],
   "source": [
    "mse_norm = tf.matmul(tf.transpose(y_real - y_predicted), y_real - y_predicted)[0][0]"
   ]
  },
  {
   "cell_type": "code",
   "execution_count": null,
   "metadata": {
    "collapsed": false
   },
   "outputs": [],
   "source": [
    "s.run(mse_norm)"
   ]
  },
  {
   "cell_type": "code",
   "execution_count": null,
   "metadata": {
    "collapsed": true
   },
   "outputs": [],
   "source": [
    "go = tf.train.GradientDescentOptimizer(1e-6)\n",
    "step_mse = go.minimize(mse_norm)"
   ]
  },
  {
   "cell_type": "code",
   "execution_count": null,
   "metadata": {
    "collapsed": false
   },
   "outputs": [],
   "source": [
    "for _ in range(10):\n",
    "    s.run(step_mse)\n",
    "s.run(mse_norm)"
   ]
  },
  {
   "cell_type": "code",
   "execution_count": null,
   "metadata": {
    "collapsed": false
   },
   "outputs": [],
   "source": [
    "y_pred_real = s.run(tf.concat((y_predicted, y_real), 1))\n",
    "\n",
    "y_pred_v = y_pred_real[:, 0]\n",
    "y_real_v = y_pred_real[:, 1]\n",
    "\n",
    "plt.hist(y_pred_v[y_real_v < 0.5], bins=50, alpha=0.7)\n",
    "plt.hist(y_pred_v[y_real_v > 0.5], bins=50, alpha=0.7)\n",
    "plt.show()"
   ]
  },
  {
   "cell_type": "code",
   "execution_count": null,
   "metadata": {
    "collapsed": true
   },
   "outputs": [],
   "source": []
  }
 ],
 "metadata": {
  "kernelspec": {
   "display_name": "Python 3",
   "language": "python",
   "name": "python3"
  },
  "language_info": {
   "codemirror_mode": {
    "name": "ipython",
    "version": 3
   },
   "file_extension": ".py",
   "mimetype": "text/x-python",
   "name": "python",
   "nbconvert_exporter": "python",
   "pygments_lexer": "ipython3",
   "version": "3.5.2"
  }
 },
 "nbformat": 4,
 "nbformat_minor": 2
}
