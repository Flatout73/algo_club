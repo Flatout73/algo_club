{
 "cells": [
  {
   "cell_type": "code",
   "execution_count": 1,
   "metadata": {
    "collapsed": true
   },
   "outputs": [],
   "source": [
    "import turtle\n",
    "import math"
   ]
  },
  {
   "cell_type": "code",
   "execution_count": 2,
   "metadata": {
    "collapsed": true
   },
   "outputs": [],
   "source": [
    "class Matrix(object):\n",
    "    def __init__(self, h, w = 1):\n",
    "        if type(h) == int:\n",
    "            self.dat = [[0]*w for _ in range(h)]\n",
    "        elif type(h) == list and (type(h[0]) == float or type(h[0]) == int):\n",
    "            self.dat = [[p] for p in h]\n",
    "        else:\n",
    "            self.dat = h            \n",
    "        \n",
    "    def __repr__(self):\n",
    "        return 'Matrix(%s)'%self.dat\n",
    "    \n",
    "    def __mul__(self, r):\n",
    "        res = Matrix(len(self.dat), len(r.dat[0]))\n",
    "        for p in range(len(self.dat)):\n",
    "            for q in range(len(r.dat[0])):\n",
    "                val = 0\n",
    "                for ind in range(len(self.dat[0])):\n",
    "                    val += self.dat[p][ind] * r.dat[ind][q]\n",
    "                res.dat[p][q] = val\n",
    "        return res\n",
    "    \n",
    "    def transpose(self):\n",
    "        h, w = len(self.dat), len(self.dat[0])\n",
    "        tm = Matrix(w, h)\n",
    "        for p in range(h):\n",
    "            for q in range(w):\n",
    "                tm.dat[q][p] = self.dat[p][q]\n",
    "        return tm\n",
    "    \n",
    "    def height(self):\n",
    "        return len(self.dat)\n",
    "    \n",
    "    def width(self):\n",
    "        return len(self.dat[0])\n",
    "    \n",
    "    def set(self, p, q, val):\n",
    "        self.dat[p][q] = val\n",
    "    \n",
    "    def get(self, p, q):\n",
    "        return self.dat[p][q]\n",
    "    \n",
    "    def copy(self):\n",
    "        return [t.copy() for t in self.dat]\n",
    "    \n",
    "    def first_column_to_list(self):\n",
    "        h = len(self.dat)\n",
    "        ret = [0] * h\n",
    "        for p in range(h):\n",
    "            ret[p] = self.dat[p][0]\n",
    "        return ret\n",
    "        "
   ]
  },
  {
   "cell_type": "code",
   "execution_count": 3,
   "metadata": {
    "collapsed": true
   },
   "outputs": [],
   "source": [
    "def create_mnk_matrix(dat):\n",
    "    max_order = 3\n",
    "    order = min(max_order, len(dat)-1)\n",
    "    dat = Matrix(dat)\n",
    "    b = Matrix(dat.height(), order + 1)\n",
    "    y = Matrix(dat.height(), 1)\n",
    "    for p in range(dat.height()):\n",
    "        for q in range(order+1):\n",
    "            b.set(p, q, dat.get(p, 0)**q)\n",
    "        y.set(p, 0, dat.get(p, 1))\n",
    "    return b, y"
   ]
  },
  {
   "cell_type": "code",
   "execution_count": 4,
   "metadata": {
    "collapsed": true
   },
   "outputs": [],
   "source": [
    "def gauss_solve(a, y):\n",
    "    n = a.width()\n",
    "    x = Matrix(n)\n",
    "    for pos in range(n-1):\n",
    "        maxel_ind = pos\n",
    "        maxel = math.fabs(a.get(pos,pos))\n",
    "        for ind in range(pos+1, n):\n",
    "            if maxel < math.fabs(a.get(ind, pos)):\n",
    "                maxel = math.fabs(a.get(ind, pos))\n",
    "                maxel_ind = ind\n",
    "        if maxel_ind != pos:\n",
    "            for temp_ind in range(pos, n):\n",
    "                temp_val = a.get(ind, temp_ind)\n",
    "                a.set(ind, temp_ind, a.get(pos, temp_ind))\n",
    "                a.set(pos, temp_ind, temp_val)\n",
    "            temp_val = y.get(pos, 0)\n",
    "            y.set(pos, 0, y.get(maxel_ind, 0))\n",
    "            y.set(maxel_ind, 0, temp_val)\n",
    "        for victim in range(pos+1, n):\n",
    "            magic = a.get(victim, pos)/a.get(pos, pos)\n",
    "            y.set(victim, 0, y.get(victim, 0) - y.get(pos, 0)*magic)\n",
    "            for subvictim in range(pos, n):\n",
    "                a.set(victim, subvictim, a.get(victim, subvictim) - a.get(pos, subvictim)*magic)\n",
    "    x.set(n-1, 0, y.get(n-1, 0)/a.get(n-1, n-1))\n",
    "    for pos in range(n-2, -1, -1):\n",
    "        right = y.get(pos, 0)\n",
    "        for p in range(pos+1, n):\n",
    "            right -= x.get(p, 0)*a.get(pos, p)\n",
    "        x.set(pos, 0, right/a.get(pos, pos))\n",
    "    return x"
   ]
  },
  {
   "cell_type": "code",
   "execution_count": 5,
   "metadata": {
    "collapsed": false
   },
   "outputs": [],
   "source": [
    "def draw_points(a):\n",
    "    turtle.up()\n",
    "    turtle.clear()\n",
    "\n",
    "    print('a=',a)\n",
    "    b, y = create_mnk_matrix(a)\n",
    "    print('b=', b, 'y=', y)\n",
    "\n",
    "    ys = b.transpose() * y\n",
    "    bs = b.transpose() * b\n",
    "    poly = gauss_solve(bs, ys).first_column_to_list()\n",
    "    print('poly = ', poly)\n",
    "    print()\n",
    "    \n",
    "    for point in a:\n",
    "        turtle.pencolor((0, 0, 0))\n",
    "        real_point = tuple(t*100 for t in point)\n",
    "        print('real_point = ', real_point)\n",
    "        y = 0\n",
    "        x=point[0]\n",
    "        for ind, coef in enumerate(poly):\n",
    "            y += coef * x ** ind\n",
    "        approx_point = (x*100, y*100)\n",
    "        print('approx_point = ', approx_point)\n",
    "        turtle.goto(*real_point)\n",
    "        turtle.dot()\n",
    "\n",
    "    minx = min(t[0] for t in a) - 1\n",
    "    maxx = max(t[0] for t in a) + 1\n",
    "    d = maxx - minx\n",
    "\n",
    "    turtle.color((0, 1, 0))\n",
    "    for x in range(int(100*(minx - d/2)), int(100*(maxx + d/2))):\n",
    "        y = 0\n",
    "        for ind, coef in enumerate(poly):\n",
    "            y += coef * (x/100) ** ind\n",
    "        approx_point = (x, y*100)\n",
    "        turtle.goto(*approx_point)\n",
    "        turtle.down()\n",
    "    print()\n",
    "    print()"
   ]
  },
  {
   "cell_type": "code",
   "execution_count": 6,
   "metadata": {
    "collapsed": false
   },
   "outputs": [],
   "source": [
    "class MyPoints(object):\n",
    "    def __init__(self):\n",
    "        self.dat = []\n",
    "    def my_click(self,x,y):\n",
    "        self.dat.append((x/100,y/100))\n",
    "        if len(self.dat) > 1:\n",
    "            draw_points(self.dat)"
   ]
  },
  {
   "cell_type": "code",
   "execution_count": 7,
   "metadata": {
    "collapsed": false
   },
   "outputs": [
    {
     "name": "stdout",
     "output_type": "stream",
     "text": [
      "a= [(-5.85, 0.87), (-3.08, -0.19)]\n",
      "b= Matrix([[1.0, -5.85], [1.0, -3.08]]) y= Matrix([[0.87], [-0.19]])\n",
      "poly =  [-1.3686281588447635, -0.3826714801444039]\n",
      "\n",
      "real_point =  (-585.0, 87.0)\n",
      "approx_point =  (-585.0, 86.9999999999999)\n",
      "real_point =  (-308.0, -19.0)\n",
      "approx_point =  (-308.0, -18.99999999999995)\n",
      "\n",
      "\n",
      "a= [(-5.85, 0.87), (-3.08, -0.19), (1.64, 0.8)]\n",
      "b= Matrix([[1.0, -5.85, 34.2225], [1.0, -3.08, 9.4864], [1.0, 1.64, 2.6895999999999995]]) y= Matrix([[0.87], [-0.19], [0.8]])\n",
      "poly =  [0.056495189858071906, 0.32364173463616724, 0.07909442494743245]\n",
      "\n",
      "real_point =  (-585.0, 87.0)\n",
      "approx_point =  (-585.0, 87.00000000000006)\n",
      "real_point =  (-308.0, -19.0)\n",
      "approx_point =  (-308.0, -19.000000000000007)\n",
      "real_point =  (164.0, 80.0)\n",
      "approx_point =  (164.0, 80.00000000000004)\n",
      "\n",
      "\n",
      "a= [(-5.85, 0.87), (-3.08, -0.19), (1.64, 0.8), (5.56, 1.71)]\n",
      "b= Matrix([[1.0, -5.85, 34.2225, -200.20162499999995], [1.0, -3.08, 9.4864, -29.218112], [1.0, 1.64, 2.6895999999999995, 4.410943999999999], [1.0, 5.56, 30.913599999999995, 171.87961599999997]]) y= Matrix([[0.87], [-0.19], [0.8], [1.71]])\n",
      "poly =  [95.90002938397295, 21.441961400592866, -3.4342676135226142, -0.6908580512609823]\n",
      "\n",
      "real_point =  (-585.0, 87.0)\n",
      "approx_point =  (-585.0, -875.3763706491043)\n",
      "real_point =  (-308.0, -19.0)\n",
      "approx_point =  (-308.0, 1746.5519899071114)\n",
      "real_point =  (164.0, 80.0)\n",
      "approx_point =  (164.0, 11878.07037315535)\n",
      "real_point =  (556.0, 171.0)\n",
      "approx_point =  (556.0, -979.2657087369349)\n",
      "\n",
      "\n"
     ]
    }
   ],
   "source": [
    "points = MyPoints()\n",
    "\n",
    "turtle.forward(10)\n",
    "turtle.getscreen().onclick(points.my_click)\n",
    "turtle.tracer(0)\n",
    "turtle.mainloop()"
   ]
  },
  {
   "cell_type": "code",
   "execution_count": null,
   "metadata": {
    "collapsed": true
   },
   "outputs": [],
   "source": []
  }
 ],
 "metadata": {
  "kernelspec": {
   "display_name": "Python 3",
   "language": "python",
   "name": "python3"
  },
  "language_info": {
   "codemirror_mode": {
    "name": "ipython",
    "version": 3
   },
   "file_extension": ".py",
   "mimetype": "text/x-python",
   "name": "python",
   "nbconvert_exporter": "python",
   "pygments_lexer": "ipython3",
   "version": "3.5.2"
  }
 },
 "nbformat": 4,
 "nbformat_minor": 1
}
