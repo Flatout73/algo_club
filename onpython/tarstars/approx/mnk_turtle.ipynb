{
 "cells": [
  {
   "cell_type": "code",
   "execution_count": 1,
   "metadata": {},
   "outputs": [],
   "source": [
    "import gauss\n",
    "import matrix\n",
    "import mnk\n",
    "\n",
    "import turtle\n",
    "import math\n",
    "\n",
    "def draw_points(a):\n",
    "    turtle.up()\n",
    "    turtle.clear()\n",
    "\n",
    "    b, y = mnk.create_mnk_matrix(a)\n",
    "\n",
    "    ys = b.transpose() * y\n",
    "    bs = b.transpose() * b\n",
    "    poly = gauss.gauss_solve(bs, ys).first_column_to_list()\n",
    "    \n",
    "    for point in a:\n",
    "        turtle.pencolor((0, 0, 0))\n",
    "        real_point = tuple(t*100 for t in point)\n",
    "        y = 0\n",
    "        x = point[0]\n",
    "        for ind, coef in enumerate(poly):\n",
    "            y += coef * x ** ind\n",
    "        approx_point = (x*100, y*100)\n",
    "        turtle.goto(*real_point)\n",
    "        turtle.dot()\n",
    "\n",
    "    minx = min(t[0] for t in a) - 1\n",
    "    maxx = max(t[0] for t in a) + 1\n",
    "    d = maxx - minx\n",
    "\n",
    "    turtle.color((0, 1, 0))\n",
    "    for x in range(int(100*(minx - d/2)), int(100*(maxx + d/2))):\n",
    "        y = 0\n",
    "        for ind, coef in enumerate(poly):\n",
    "            y += coef * (float(x)/100) ** ind\n",
    "        approx_point = (x, y*100)\n",
    "        turtle.goto(*approx_point)\n",
    "        turtle.down()\n",
    "\n",
    "        \n",
    "class MyPoints(object):\n",
    "    def __init__(self):\n",
    "        self.dat = []\n",
    "    def my_click(self,x,y):\n",
    "        self.dat.append((x/100,y/100))\n",
    "        if len(self.dat) > 1:\n",
    "            draw_points(self.dat)\n",
    "\n",
    "points = MyPoints()\n",
    "\n",
    "turtle.forward(10)\n",
    "turtle.getscreen().onclick(points.my_click)\n",
    "turtle.tracer(0)\n",
    "turtle.mainloop()"
   ]
  },
  {
   "cell_type": "code",
   "execution_count": null,
   "metadata": {},
   "outputs": [],
   "source": []
  }
 ],
 "metadata": {
  "kernelspec": {
   "display_name": "Python 2",
   "language": "python",
   "name": "python2"
  },
  "language_info": {
   "codemirror_mode": {
    "name": "ipython",
    "version": 2
   },
   "file_extension": ".py",
   "mimetype": "text/x-python",
   "name": "python",
   "nbconvert_exporter": "python",
   "pygments_lexer": "ipython2",
   "version": "2.7.12"
  }
 },
 "nbformat": 4,
 "nbformat_minor": 1
}
