{
 "cells": [
  {
   "cell_type": "code",
   "execution_count": 1,
   "metadata": {
    "collapsed": true
   },
   "outputs": [],
   "source": [
    "import math\n",
    "import turtle"
   ]
  },
  {
   "cell_type": "code",
<<<<<<< HEAD
   "execution_count": 2,
=======
   "execution_count": 7,
>>>>>>> 128b56f10ba40bc5b85c9fced83d0bcdb64ab6e0
   "metadata": {
    "collapsed": true
   },
   "outputs": [],
   "source": [
    "phi=1.57/2\n",
    "\n",
    "mat=[[math.cos(phi), -math.sin(phi)],\n",
    "    [math.sin(phi), math.cos(phi)]]"
   ]
  },
  {
   "cell_type": "code",
<<<<<<< HEAD
   "execution_count": 3,
=======
   "execution_count": 2,
>>>>>>> 128b56f10ba40bc5b85c9fced83d0bcdb64ab6e0
   "metadata": {
    "collapsed": true
   },
   "outputs": [],
   "source": [
    "class Matrix(object):\n",
    "    def __init__(self, h, w = 1):\n",
    "        if type(h) == int:\n",
    "            self.dat=[[0]*w for _ in range(h)]\n",
    "        elif type(h) == list and (type(h[0])==float or type(h[0])==int):\n",
    "            self.dat=[[p] for p in h] \n",
    "        else:\n",
    "            self.dat = h\n",
    "            \n",
    "    def __repr__(self):\n",
    "        return 'Matrix(%s)'%self.dat\n",
    "    \n",
    "    def __mul__(self, r):\n",
    "        res=Matrix(len(self.dat), len(r.dat[0]))\n",
    "        for p in range(len(self.dat)):        \n",
    "            for q in range(len(r.dat[0])):\n",
    "                val=0\n",
    "                for ind in range(len(self.dat[0])):\n",
    "                    val +=self.dat[p][ind]*r.dat[ind][q]\n",
    "                res.dat[p][q]=val\n",
    "        return res\n",
    "    \n",
    "    def transpose(self):\n",
    "        h, w=len(self.dat), len(self.dat[0])\n",
    "        tm=Matrix(w, h)\n",
    "        for p in range(h):\n",
    "            for q in range(w):\n",
    "                tm.dat[q][p]=self.dat[p][q]\n",
    "        return tm\n",
    "    \n",
    "    def height(self):\n",
    "        return len(self.dat)\n",
    "    \n",
    "    def width(self):\n",
    "        return len(self.dat[0])\n",
    "    \n",
    "    def set(self, p, q, val):\n",
    "#        print('set: p=', p, 'q=', q, 'val=', val, 'dat=', self.dat)\n",
    "        self.dat[p][q] = val\n",
    "        \n",
    "    def get(self, p, q):\n",
    "        return self.dat[p][q]\n",
    "    \n",
    "    def copy(mat):\n",
    "        return[t.copy() for t in self.dat]"
   ]
  },
  {
   "cell_type": "code",
<<<<<<< HEAD
   "execution_count": 4,
=======
   "execution_count": 3,
>>>>>>> 128b56f10ba40bc5b85c9fced83d0bcdb64ab6e0
   "metadata": {
    "collapsed": true
   },
   "outputs": [],
   "source": [
    "def create_mnk_matrix(dat):\n",
    "    dat=Matrix(dat)\n",
    "    b=Matrix(dat.height(), 2)\n",
    "    y=Matrix(dat.height(), 1)\n",
    "    for p in range(dat.height()):\n",
    "        b.set(p, 0, dat.get(p, 0))\n",
    "        b.set(p, 1, 1)\n",
    "        y.set(p, 0, dat.get(p, 1))\n",
    "    return b, y"
   ]
  },
  {
   "cell_type": "code",
<<<<<<< HEAD
   "execution_count": 5,
=======
   "execution_count": 4,
>>>>>>> 128b56f10ba40bc5b85c9fced83d0bcdb64ab6e0
   "metadata": {
    "collapsed": true
   },
   "outputs": [],
   "source": [
<<<<<<< HEAD
    "#linear term\n",
=======
>>>>>>> 128b56f10ba40bc5b85c9fced83d0bcdb64ab6e0
    "def gauss_solve(a, y):\n",
    "    n=a.width()\n",
    "    x=Matrix(n)\n",
    "    for pos in range(n-1):\n",
    "        for victim in range (pos+1, n):\n",
    "            magic = a.get(victim, pos)/a.get(pos, pos)\n",
    "            y.set(victim, 0, y.get(victim, 0) - y.get(pos, 0)*magic)\n",
    "            for subvictim in range(pos, n):\n",
    "                a.set(victim, subvictim, a.get(victim, subvictim) - a.get(pos, subvictim)*magic)\n",
    "    x.set(n-1, 0, y.get(n-1, 0)/a.get(n-1, n-1))\n",
    "    for pos in range(n-2, -1, -1):\n",
    "        right = y.get(pos, 0)\n",
    "        for p in range(pos+1, n):\n",
    "            right -= x.get(p, 0)*a.get(pos, p)\n",
    "        x.set(pos, 0, right/a.get(pos, pos))\n",
    "    return x"
   ]
  },
  {
   "cell_type": "code",
<<<<<<< HEAD
   "execution_count": 6,
=======
   "execution_count": 5,
>>>>>>> 128b56f10ba40bc5b85c9fced83d0bcdb64ab6e0
   "metadata": {
    "collapsed": true
   },
   "outputs": [],
   "source": [
    "def draw_points(a):\n",
    "    turtle.up()\n",
    "    turtle.clear()\n",
    "    turtle.speed(0)\n",
    "    turtle.delay(0.1)\n",
    "\n",
    "    b, y = create_mnk_matrix(a)\n",
    "    ys=b.transpose()*y\n",
    "    bs=b.transpose()*b\n",
<<<<<<< HEAD
    "    gauss_result = gauss_solve(bs, ys)\n",
    "    k, c = gauss_result.get(0, 0), gauss_result.get(1, 0)\n",
    "    #k, c = gauss_solve(bs, ys)\n",
=======
    "    k, c = gauss_solve(bs, ys)\n",
>>>>>>> 128b56f10ba40bc5b85c9fced83d0bcdb64ab6e0
    "\n",
    "    for point in a:\n",
    "        turtle.pencolor((0, 0, 0))\n",
    "        turtle.goto(*point)\n",
    "        turtle.dot()\n",
    "\n",
<<<<<<< HEAD
    "        minx = min(t[0] for t in a)\n",
    "        maxx = max(t[0] for t in a)\n",
    "        d = maxx - minx\n",
    "\n",
    "        turtle.color((0, 1, 0))\n",
=======
    "    minx = min(t[0] for t in a)\n",
    "    maxx = max(t[0] for t in a)\n",
    "    d = maxx - minx\n",
    "\n",
    "    turtle.color((0, 1, 0))\n",
>>>>>>> 128b56f10ba40bc5b85c9fced83d0bcdb64ab6e0
    "    for x in range(int(minx - d/2), int(maxx + d/2)):\n",
    "        y=k*x+c\n",
    "        turtle.goto(x, y)\n",
    "        turtle.down()"
   ]
  },
  {
   "cell_type": "code",
<<<<<<< HEAD
   "execution_count": 7,
   "metadata": {
    "collapsed": true
   },
   "outputs": [],
   "source": [
    "def draw_points_click(a):\n",
    "    turtle.up()\n",
    "    turtle.clear()\n",
    "    turtle.speed(0)\n",
    "    turtle.delay(0.1)\n",
    "\n",
    "    b, y = create_mnk_matrix(a)\n",
    "    ys=b.transpose()*y\n",
    "    bs=b.transpose()*b\n",
    "    gauss_result = gauss_solve(bs, ys)\n",
    "    k, c = gauss_result.get(0, 0), gauss_result.get(1, 0)\n",
    "    #k, c = gauss_solve(bs, ys)\n",
    "\n",
    "    for point in range(1):\n",
    "        turtle.pencolor((0, 0, 0))\n",
    "        turtle.goto(*point)\n",
    "        turtle.dot()\n",
    "\n",
    "        minx = min(t[0] for t in a)\n",
    "        maxx = max(t[0] for t in a)\n",
    "        d = maxx - minx\n",
    "\n",
    "        turtle.color((0, 1, 0))\n",
    "    for x in range(int(minx - d/2), int(maxx + d/2)):\n",
    "        y=k*x+c\n",
    "        turtle.goto(x, y)\n",
    "        turtle.down()"
   ]
  },
  {
   "cell_type": "code",
   "execution_count": 25,
   "metadata": {
    "collapsed": true
   },
   "outputs": [],
   "source": [
    "class MyPoints(object):\n",
    "    def __init__(self):\n",
    "        self.dat = []\n",
    "    def my_click(self, x, y):\n",
    "        self.dat.append((x, y))\n",
    "        if len(self.dat) > 2:\n",
    "            draw_points(self.dat)"
   ]
  },
  {
   "cell_type": "code",
   "execution_count": 9,
   "metadata": {
    "collapsed": false
   },
   "outputs": [],
   "source": [
    "points = MyPoints()"
   ]
  },
  {
   "cell_type": "code",
   "execution_count": 10,
   "metadata": {
    "collapsed": false
   },
   "outputs": [],
   "source": [
    "turtle.tracer(0)\n",
    "turtle.getscreen().onclick(points.my_click)\n",
    "turtle.mainloop()"
   ]
  },
  {
   "cell_type": "code",
   "execution_count": 11,
   "metadata": {
    "collapsed": false
   },
   "outputs": [
    {
     "ename": "NameError",
     "evalue": "name 'draw_points_quadratic' is not defined",
     "output_type": "error",
     "traceback": [
      "\u001b[0;31m---------------------------------------------------------------------------\u001b[0m",
      "\u001b[0;31mNameError\u001b[0m                                 Traceback (most recent call last)",
      "\u001b[0;32m<ipython-input-11-81219f70a676>\u001b[0m in \u001b[0;36m<module>\u001b[0;34m()\u001b[0m\n\u001b[0;32m----> 1\u001b[0;31m \u001b[0mdraw_points_quadratic\u001b[0m\u001b[0;34m(\u001b[0m\u001b[0mpoints\u001b[0m\u001b[0;34m)\u001b[0m\u001b[0;34m\u001b[0m\u001b[0m\n\u001b[0m",
      "\u001b[0;31mNameError\u001b[0m: name 'draw_points_quadratic' is not defined"
     ]
    }
   ],
   "source": [
    "draw_points_quadratic(points)"
   ]
  },
  {
   "cell_type": "code",
   "execution_count": null,
   "metadata": {
    "collapsed": true
   },
   "outputs": [],
   "source": []
  },
  {
   "cell_type": "code",
   "execution_count": 14,
   "metadata": {
    "collapsed": false
   },
   "outputs": [],
   "source": [
    "def create_mnk_matrix_sq(dat):\n",
    "    dat=Matrix(dat)\n",
    "#    deg = #degree\n",
    "    b=Matrix(dat.height(), 3) #deg\n",
    "    y=Matrix(dat.height(), 1)\n",
    "    for p in range(dat.height()):\n",
    "        b.set(p, 0, 1)\n",
    "        b.set(p, 1, dat.get(p, 0))\n",
    "        b.set(p, 2, (dat.get(p, 0)**2))\n",
    "        y.set(p, 0, dat.get(p, 1))\n",
    "    return b, y"
   ]
  },
  {
   "cell_type": "code",
   "execution_count": 15,
   "metadata": {
    "collapsed": true
   },
   "outputs": [],
   "source": [
    "#quadratic term\n",
    "def draw_points_quadratic(a):\n",
    "    turtle.up()\n",
    "    turtle.clear()\n",
    "    turtle.speed(0)\n",
    "    turtle.delay(0.1)\n",
    "\n",
    "    b, y = create_mnk_matrix_sq(a)\n",
    "    ys=b.transpose()*y\n",
    "    bs=b.transpose()*b\n",
    "    gauss_result = gauss_solve(bs, ys)\n",
    "    a0, a1, a2 = gauss_result.get(0, 0), gauss_result.get(1, 0), gauss_result.get(2, 0) #будет определяться deg-ом\n",
    "    #k, c = gauss_solve(bs, ys)\n",
    "\n",
    "    for point in a:\n",
    "        turtle.pencolor((0, 0, 0))\n",
    "        turtle.goto(*point)\n",
    "        turtle.dot()\n",
    "\n",
    "        minx = min(t[0] for t in a)\n",
    "        maxx = max(t[0] for t in a)\n",
    "        d = maxx - minx\n",
    "\n",
    "        turtle.color((0, 1, 0))\n",
    "    for x in range(int(minx - d/2), int(maxx + d/2)):\n",
    "        y=a0+a1*x+a2*x**2 #пробегаемся на гаус.резалт и решаем многочлен (циклом)\n",
    "        turtle.goto(x, y)\n",
    "        turtle.down()"
   ]
  },
  {
   "cell_type": "code",
   "execution_count": 19,
   "metadata": {
    "collapsed": true
   },
   "outputs": [],
   "source": [
    "#linear term Gauss with maximum element\n",
    "def gauss_solve_maxel(a, y):\n",
    "    n=a.width()\n",
    "    x=Matrix(n)\n",
    "    for pos in range(n-1):\n",
    "        maxel = math.fabs(a.get(pos, pos)) #максимальный элемент\n",
    "        maxel_ind = pos # индекс максимального элемента \n",
    "        for ind in range(pos+1, n):\n",
    "            if maxel < math.fabs(a.get(ind, pos)):\n",
    "                maxel = math.fabs(a.get(ind, pos))\n",
    "                maxel_ind = ind\n",
    "        if maxel_ind != pos:\n",
    "            for temp_ind in range (pos, n):\n",
    "                temp_val = a.get(ind, temp_ind)\n",
    "                a.set(ind, temp_ind, a.get(pos, temp_ind))\n",
    "                a.set(pos, temp_ind, temp_val)\n",
    "            temp_val = y.get(pos, 0)\n",
    "            y.set(pos, 0, y.get(maxel_ind, 0))\n",
    "            y.set(maxel_ind, 0, temp_val)\n",
    "        for victim in range (pos+1, n):\n",
    "            magic = a.get(victim, pos)/a.get(pos, pos)\n",
    "            y.set(victim, 0, y.get(victim, 0) - y.get(pos, 0)*magic)\n",
    "            for subvictim in range(pos, n):\n",
    "                a.set(victim, subvictim, a.get(victim, subvictim) - a.get(pos, subvictim)*magic)\n",
    "    x.set(n-1, 0, y.get(n-1, 0)/a.get(n-1, n-1))\n",
    "    for pos in range(n-2, -1, -1):\n",
    "        right = y.get(pos, 0)\n",
    "        for p in range(pos+1, n):\n",
    "            right -= x.get(p, 0)*a.get(pos, p)\n",
    "        x.set(pos, 0, right/a.get(pos, pos))\n",
    "    return x"
   ]
  },
  {
   "cell_type": "code",
   "execution_count": 26,
   "metadata": {
    "collapsed": false
   },
   "outputs": [],
   "source": [
    "points = MyPoints()\n",
    "turtle.tracer(0)\n",
    "turtle.getscreen().onclick(points.my_click)\n",
    "turtle.mainloop()"
   ]
  },
  {
   "cell_type": "code",
   "execution_count": 27,
   "metadata": {
    "collapsed": false
   },
   "outputs": [
    {
     "ename": "Terminator",
     "evalue": "",
     "output_type": "error",
     "traceback": [
      "\u001b[0;31m---------------------------------------------------------------------------\u001b[0m",
      "\u001b[0;31mTerminator\u001b[0m                                Traceback (most recent call last)",
      "\u001b[0;32m<ipython-input-27-81219f70a676>\u001b[0m in \u001b[0;36m<module>\u001b[0;34m()\u001b[0m\n\u001b[0;32m----> 1\u001b[0;31m \u001b[0mdraw_points_quadratic\u001b[0m\u001b[0;34m(\u001b[0m\u001b[0mpoints\u001b[0m\u001b[0;34m)\u001b[0m\u001b[0;34m\u001b[0m\u001b[0m\n\u001b[0m",
      "\u001b[0;32m<ipython-input-15-c88c3748f7d7>\u001b[0m in \u001b[0;36mdraw_points_quadratic\u001b[0;34m(a)\u001b[0m\n\u001b[1;32m      1\u001b[0m \u001b[0;31m#quadratic term\u001b[0m\u001b[0;34m\u001b[0m\u001b[0;34m\u001b[0m\u001b[0m\n\u001b[1;32m      2\u001b[0m \u001b[0;32mdef\u001b[0m \u001b[0mdraw_points_quadratic\u001b[0m\u001b[0;34m(\u001b[0m\u001b[0ma\u001b[0m\u001b[0;34m)\u001b[0m\u001b[0;34m:\u001b[0m\u001b[0;34m\u001b[0m\u001b[0m\n\u001b[0;32m----> 3\u001b[0;31m     \u001b[0mturtle\u001b[0m\u001b[0;34m.\u001b[0m\u001b[0mup\u001b[0m\u001b[0;34m(\u001b[0m\u001b[0;34m)\u001b[0m\u001b[0;34m\u001b[0m\u001b[0m\n\u001b[0m\u001b[1;32m      4\u001b[0m     \u001b[0mturtle\u001b[0m\u001b[0;34m.\u001b[0m\u001b[0mclear\u001b[0m\u001b[0;34m(\u001b[0m\u001b[0;34m)\u001b[0m\u001b[0;34m\u001b[0m\u001b[0m\n\u001b[1;32m      5\u001b[0m     \u001b[0mturtle\u001b[0m\u001b[0;34m.\u001b[0m\u001b[0mspeed\u001b[0m\u001b[0;34m(\u001b[0m\u001b[0;36m0\u001b[0m\u001b[0;34m)\u001b[0m\u001b[0;34m\u001b[0m\u001b[0m\n",
      "\u001b[0;32m/Users/apple/anaconda/lib/python3.5/turtle.py\u001b[0m in \u001b[0;36mup\u001b[0;34m()\u001b[0m\n",
      "\u001b[0;31mTerminator\u001b[0m: "
=======
   "execution_count": 8,
   "metadata": {
    "collapsed": false,
    "scrolled": true
   },
   "outputs": [
    {
     "ename": "TypeError",
     "evalue": "'Matrix' object is not iterable",
     "output_type": "error",
     "traceback": [
      "\u001b[0;31m---------------------------------------------------------------------------\u001b[0m",
      "\u001b[0;31mTypeError\u001b[0m                                 Traceback (most recent call last)",
      "\u001b[0;32m<ipython-input-8-fe4525b2d78d>\u001b[0m in \u001b[0;36m<module>\u001b[0;34m()\u001b[0m\n\u001b[0;32m----> 1\u001b[0;31m \u001b[0mdraw_points\u001b[0m\u001b[0;34m(\u001b[0m\u001b[0mmat\u001b[0m\u001b[0;34m)\u001b[0m\u001b[0;34m\u001b[0m\u001b[0m\n\u001b[0m",
      "\u001b[0;32m<ipython-input-5-a90aa2999b65>\u001b[0m in \u001b[0;36mdraw_points\u001b[0;34m(a)\u001b[0m\n\u001b[1;32m      8\u001b[0m     \u001b[0mys\u001b[0m\u001b[0;34m=\u001b[0m\u001b[0mb\u001b[0m\u001b[0;34m.\u001b[0m\u001b[0mtranspose\u001b[0m\u001b[0;34m(\u001b[0m\u001b[0;34m)\u001b[0m\u001b[0;34m*\u001b[0m\u001b[0my\u001b[0m\u001b[0;34m\u001b[0m\u001b[0m\n\u001b[1;32m      9\u001b[0m     \u001b[0mbs\u001b[0m\u001b[0;34m=\u001b[0m\u001b[0mb\u001b[0m\u001b[0;34m.\u001b[0m\u001b[0mtranspose\u001b[0m\u001b[0;34m(\u001b[0m\u001b[0;34m)\u001b[0m\u001b[0;34m*\u001b[0m\u001b[0mb\u001b[0m\u001b[0;34m\u001b[0m\u001b[0m\n\u001b[0;32m---> 10\u001b[0;31m     \u001b[0mk\u001b[0m\u001b[0;34m,\u001b[0m \u001b[0mc\u001b[0m \u001b[0;34m=\u001b[0m \u001b[0mgauss_solve\u001b[0m\u001b[0;34m(\u001b[0m\u001b[0mbs\u001b[0m\u001b[0;34m,\u001b[0m \u001b[0mys\u001b[0m\u001b[0;34m)\u001b[0m\u001b[0;34m\u001b[0m\u001b[0m\n\u001b[0m\u001b[1;32m     11\u001b[0m \u001b[0;34m\u001b[0m\u001b[0m\n\u001b[1;32m     12\u001b[0m     \u001b[0;32mfor\u001b[0m \u001b[0mpoint\u001b[0m \u001b[0;32min\u001b[0m \u001b[0ma\u001b[0m\u001b[0;34m:\u001b[0m\u001b[0;34m\u001b[0m\u001b[0m\n",
      "\u001b[0;31mTypeError\u001b[0m: 'Matrix' object is not iterable"
>>>>>>> 128b56f10ba40bc5b85c9fced83d0bcdb64ab6e0
     ]
    }
   ],
   "source": [
<<<<<<< HEAD
    "draw_points_quadratic(points)"
   ]
  },
  {
   "cell_type": "code",
   "execution_count": null,
   "metadata": {
    "collapsed": true
   },
   "outputs": [],
   "source": []
  },
  {
   "cell_type": "code",
   "execution_count": 18,
   "metadata": {
    "collapsed": false
   },
   "outputs": [
    {
     "data": {
      "text/plain": [
       "Matrix([[4.0], [2.0], [3.0]])"
      ]
     },
     "execution_count": 18,
     "metadata": {},
     "output_type": "execute_result"
    }
   ],
   "source": [
    "bad_b = Matrix([[0, 1, 0], [0, 0, 1], [1, 0, 0]])\n",
    "bad_y = Matrix([2, 3, 4])\n",
    "gauss_solve_maxel(bad_b, bad_y)"
=======
    "draw_points(mat)"
>>>>>>> 128b56f10ba40bc5b85c9fced83d0bcdb64ab6e0
   ]
  },
  {
   "cell_type": "code",
   "execution_count": null,
   "metadata": {
    "collapsed": true
   },
   "outputs": [],
   "source": []
  },
  {
   "cell_type": "code",
   "execution_count": null,
   "metadata": {
    "collapsed": true
   },
   "outputs": [],
   "source": []
<<<<<<< HEAD
  },
  {
   "cell_type": "code",
   "execution_count": null,
   "metadata": {
    "collapsed": true
   },
   "outputs": [],
   "source": []
=======
>>>>>>> 128b56f10ba40bc5b85c9fced83d0bcdb64ab6e0
  }
 ],
 "metadata": {
  "kernelspec": {
   "display_name": "Python 3",
   "language": "python",
   "name": "python3"
  },
  "language_info": {
   "codemirror_mode": {
    "name": "ipython",
    "version": 3
   },
   "file_extension": ".py",
   "mimetype": "text/x-python",
   "name": "python",
   "nbconvert_exporter": "python",
   "pygments_lexer": "ipython3",
   "version": "3.5.1"
  }
 },
 "nbformat": 4,
 "nbformat_minor": 0
}
